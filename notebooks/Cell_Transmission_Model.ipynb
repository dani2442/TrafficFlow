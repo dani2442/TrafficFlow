{
 "cells": [
  {
   "cell_type": "code",
   "execution_count": 1,
   "metadata": {},
   "outputs": [
    {
     "name": "stdout",
     "output_type": "stream",
     "text": [
      "/home/dani2442/Projects/TrafficFlow\n"
     ]
    },
    {
     "name": "stderr",
     "output_type": "stream",
     "text": [
      "/home/dani2442/Projects/TrafficFlow/.venv/lib/python3.10/site-packages/IPython/core/magics/osm.py:417: UserWarning: This is now an optional IPython functionality, setting dhist requires you to install the `pickleshare` library.\n",
      "  self.shell.db['dhist'] = compress_dhist(dhist)[-100:]\n"
     ]
    }
   ],
   "source": [
    "%cd .."
   ]
  },
  {
   "cell_type": "code",
   "execution_count": 3,
   "metadata": {},
   "outputs": [],
   "source": [
    "import numpy as np\n",
    "import matplotlib.pyplot as plt\n",
    "import jax\n",
    "import jax.numpy as jnp"
   ]
  },
  {
   "cell_type": "code",
   "execution_count": 4,
   "metadata": {},
   "outputs": [],
   "source": [
    "V_0 = 50 # Desired speed (km/h)\n",
    "T = 1.2/3600 # Time gap (h)\n",
    "rho_max = 120 # Maximum density (veh/km)\n",
    "\n",
    "#V_0 = 110\n",
    "#T = 1.4/3600\n",
    "#rho_max = 120\n",
    "\n",
    "l_eff = 1/rho_max # Inverse of the minimum distance headway\n",
    "rho_C = 1/(V_0*T + l_eff) # Critical value between free traffic and congested traffic\n",
    "\n",
    "@jax.jit\n",
    "def Q_e(rho):\n",
    "    return jnp.maximum(0, jnp.where(rho<=rho_C, V_0*rho, (1-rho*l_eff)/T))"
   ]
  },
  {
   "cell_type": "code",
   "execution_count": 5,
   "metadata": {},
   "outputs": [
    {
     "name": "stderr",
     "output_type": "stream",
     "text": [
      "An NVIDIA GPU may be present on this machine, but a CUDA-enabled jaxlib is not installed. Falling back to cpu.\n"
     ]
    }
   ],
   "source": [
    "x_0, x_N = 0, 100\n",
    "N_x = 100\n",
    "T_sim = 2\n",
    "N_t = 1000\n",
    "I = 1.0\n",
    "\n",
    "dx = (x_N - x_0)/(N_x)\n",
    "dt = T_sim/N_t\n",
    "\n",
    "xs = jnp.linspace(x_0, x_N, N_x)\n",
    "rho_0x = rho_max/4 + jnp.exp(-jnp.square((xs - x_N/2)/20))*rho_max/2\n",
    "rho_t0 = rho_max/4 + jnp.zeros(N_t) \n",
    "rho_t1 = rho_max/4 + jnp.zeros(N_t) "
   ]
  },
  {
   "cell_type": "code",
   "execution_count": 6,
   "metadata": {},
   "outputs": [],
   "source": [
    "rho = jnp.zeros((N_t, N_x))"
   ]
  },
  {
   "cell_type": "code",
   "execution_count": null,
   "metadata": {},
   "outputs": [],
   "source": [
    "for t_i in range(N_t-1):\n",
    "    Q = I*Q_e(rho[t_i]/I)\n",
    "    S = jnp.where(rho>rho_C, Q, C)\n",
    "    D = jnp.where(rho_C<=rho_C, Q, C)\n",
    "    Q_up = jnp.minimum(S[1:-1], D[:-2])\n",
    "    Q_down = jnp.minimum(S[2:], D[1:-1])\n",
    "    rho[t_i+1,1:-1] = rho[t_i, 1:-1] - dt/dx*(Q_up - Q_down)"
   ]
  }
 ],
 "metadata": {
  "kernelspec": {
   "display_name": ".venv",
   "language": "python",
   "name": "python3"
  },
  "language_info": {
   "codemirror_mode": {
    "name": "ipython",
    "version": 3
   },
   "file_extension": ".py",
   "mimetype": "text/x-python",
   "name": "python",
   "nbconvert_exporter": "python",
   "pygments_lexer": "ipython3",
   "version": "3.10.5"
  }
 },
 "nbformat": 4,
 "nbformat_minor": 2
}
