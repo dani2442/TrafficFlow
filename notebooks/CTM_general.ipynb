{
 "cells": [
  {
   "cell_type": "code",
   "execution_count": 1,
   "metadata": {},
   "outputs": [
    {
     "name": "stdout",
     "output_type": "stream",
     "text": [
      "/home/dani2442/Projects/TrafficFlow\n"
     ]
    },
    {
     "name": "stderr",
     "output_type": "stream",
     "text": [
      "/home/dani2442/Projects/TrafficFlow/.venv/lib/python3.10/site-packages/IPython/core/magics/osm.py:417: UserWarning: This is now an optional IPython functionality, setting dhist requires you to install the `pickleshare` library.\n",
      "  self.shell.db['dhist'] = compress_dhist(dhist)[-100:]\n"
     ]
    }
   ],
   "source": [
    "%cd .."
   ]
  },
  {
   "cell_type": "code",
   "execution_count": 2,
   "metadata": {},
   "outputs": [],
   "source": [
    "import numpy as np\n",
    "import matplotlib.pyplot as plt\n",
    "import jax\n",
    "import jax.numpy as jnp\n",
    "import networkx as nx"
   ]
  },
  {
   "cell_type": "code",
   "execution_count": 3,
   "metadata": {},
   "outputs": [],
   "source": [
    "V_0 = 50 # Desired speed (km/h)\n",
    "T = 1.2/3600 # Time gap (h)\n",
    "rho_max = 120 # Maximum density (veh/km)\n",
    "\n",
    "l_eff = 1/rho_max # Inverse of the minimum distance headway\n",
    "rho_C = 1/(V_0*T + l_eff) # Critical value between free traffic and congested traffic\n",
    "C = 1/(T + l_eff/V_0)\n",
    "\n",
    "@jax.jit\n",
    "def Q_e(rho):\n",
    "    return jnp.maximum(0, jnp.where(rho<=rho_C, V_0*rho, (1-rho*l_eff)/T))"
   ]
  },
  {
   "cell_type": "markdown",
   "metadata": {},
   "source": [
    "# 2. Converging"
   ]
  },
  {
   "cell_type": "code",
   "execution_count": 4,
   "metadata": {},
   "outputs": [],
   "source": [
    "x_0, x_N = 0, 100\n",
    "N_x = 10\n",
    "T_sim = 2\n",
    "N_t = 1000\n",
    "I = 1.0\n",
    "\n",
    "dx = (x_N - x_0)/(N_x)\n",
    "dt = T_sim/N_t"
   ]
  },
  {
   "cell_type": "code",
   "execution_count": 8,
   "metadata": {},
   "outputs": [
    {
     "data": {
      "text/plain": [
       "[]"
      ]
     },
     "execution_count": 8,
     "metadata": {},
     "output_type": "execute_result"
    },
    {
     "data": {
      "image/png": "[encoded data removed]",
      "text/plain": [
       "<Figure size 640x480 with 1 Axes>"
      ]
     },
     "metadata": {},
     "output_type": "display_data"
    }
   ],
   "source": [
    "G = nx.DiGraph()\n",
    "\n",
    "G.add_nodes_from([i for i in range(N_x)] + [-i for i in range(1, N_x)])\n",
    "G.add_edges_from([(i,i+1) for i in range(N_x-1)] + [(-i-1, -i) for i in range(1,N_x-1)] + [(-1, int(N_x/2))])\n",
    "\n",
    "pos = {i: (i, 0) for i in range(N_x)} | {-i: (int(N_x/2), -i) for i in range(1, N_x+1)}\n",
    "\n",
    "nx.draw(G, pos, node_size=1, with_labels=True )\n",
    "plt.plot()"
   ]
  },
  {
   "cell_type": "code",
   "execution_count": 20,
   "metadata": {},
   "outputs": [
    {
     "name": "stderr",
     "output_type": "stream",
     "text": [
      "An NVIDIA GPU may be present on this machine, but a CUDA-enabled jaxlib is not installed. Falling back to cpu.\n"
     ]
    }
   ],
   "source": [
    "for i,j in G.edges:\n",
    "    rho = rho_max/2\n",
    "    G.edges[i, j]['rho_old'] = rho\n",
    "    G.edges[i, j]['Q_old'] = Q_e(rho)"
   ]
  },
  {
   "cell_type": "code",
   "execution_count": 29,
   "metadata": {},
   "outputs": [
    {
     "data": {
      "text/plain": [
       "InEdgeDataView([(0, 1, {'rho': 60.0, 'rho_old': 60.0, 'Q_old': Array(1499.9999, dtype=float32, weak_type=True)})])"
      ]
     },
     "execution_count": 29,
     "metadata": {},
     "output_type": "execute_result"
    }
   ],
   "source": []
  },
  {
   "cell_type": "code",
   "execution_count": 32,
   "metadata": {},
   "outputs": [
    {
     "data": {
      "text/plain": [
       "(0,\n",
       " 1,\n",
       " {'rho': 60.0,\n",
       "  'rho_old': 60.0,\n",
       "  'Q_old': Array(1499.9999, dtype=float32, weak_type=True)})"
      ]
     },
     "execution_count": 32,
     "metadata": {},
     "output_type": "execute_result"
    }
   ],
   "source": [
    "next(iter(G.in_edges(1, data=True)))"
   ]
  },
  {
   "cell_type": "code",
   "execution_count": 18,
   "metadata": {},
   "outputs": [
    {
     "data": {
      "text/plain": [
       "60.0"
      ]
     },
     "execution_count": 18,
     "metadata": {},
     "output_type": "execute_result"
    }
   ],
   "source": [
    "i, j = 1, 2\n",
    "rho_k = G.edges[i, j]['rho_old']\n",
    "Q_k = G.edges[i, j]['Q_old']\n",
    "\n",
    "edges_k_m1 = G.in_edges(i, data=True)\n",
    "edges_k_p1 = G.out_edges(j, data=True)\n",
    "\n",
    "data_k_m1 = next(iter(edges_k_m1))[2]\n",
    "data_k_p1 = next(iter(edges_k_p1))[2]\n",
    "\n",
    "rho_k_m1 = data_k_m1['rho_old']\n",
    "Q_k_m1 = data_k_m1['Q_old']\n",
    "\n",
    "rho_k_p1 = data_k_p1['rho_old']\n",
    "Q_k_p1 = data_k_p1['Q_old']\n",
    "\n",
    "S_k = jnp.where(rho_k>rho_C, Q_k, C)\n",
    "S_k_p1 = jnp.where(rho_k_p1>rho_C, Q_k_p1, C)\n",
    "D_k_m1 = jnp.where(rho_k_m1<=rho_C, Q_k_m1, C)\n",
    "D_k = jnp.where(rho_k<=rho_C, Q_k, C)\n",
    "Q_up = min(S_k, D_k_m1)\n",
    "Q_down = min(S_k_p1, D_k)\n",
    "rho_k = rho_k + dt/dx*(Q_up - Q_down)\n",
    "\n",
    "G.edges[i, j]['rho_new'] = rho_k\n",
    "G.edges[i, j]['Q_new'] = Q_e(rho_k)"
   ]
  },
  {
   "cell_type": "markdown",
   "metadata": {},
   "source": [
    "# 1. Diverging"
   ]
  },
  {
   "cell_type": "code",
   "execution_count": 3,
   "metadata": {},
   "outputs": [],
   "source": [
    "G = nx.DiGraph()\n",
    "\n",
    "G.add_nodes_from([0,1,2,3,4,5])\n",
    "G.add_edges_from([(0,1), (1,2), (2, 3), (3, 4), (2, 5), (5, 6)])\n",
    "\n",
    "pos = {0: (0,0), 1:(1, 0), 2: (2,0), 3: (3, 1), 4: (4, 2), 5: (3,-1), 6: (4, -2)}"
   ]
  },
  {
   "cell_type": "code",
   "execution_count": 9,
   "metadata": {},
   "outputs": [
    {
     "data": {
      "image/png": "[encoded data removed]",
      "text/plain": [
       "<Figure size 640x480 with 1 Axes>"
      ]
     },
     "metadata": {},
     "output_type": "display_data"
    }
   ],
   "source": [
    "nx.draw(G, pos, with_labels=True, font_weight='bold')"
   ]
  }
 ],
 "metadata": {
  "kernelspec": {
   "display_name": ".venv",
   "language": "python",
   "name": "python3"
  },
  "language_info": {
   "codemirror_mode": {
    "name": "ipython",
    "version": 3
   },
   "file_extension": ".py",
   "mimetype": "text/x-python",
   "name": "python",
   "nbconvert_exporter": "python",
   "pygments_lexer": "ipython3",
   "version": "3.10.5"
  }
 },
 "nbformat": 4,
 "nbformat_minor": 2
}
